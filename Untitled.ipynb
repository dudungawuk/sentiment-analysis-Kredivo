{
 "cells": [
  {
   "cell_type": "code",
   "execution_count": 1,
   "id": "aef1716a-dc89-4c55-bf7d-3e8dfe303c9a",
   "metadata": {},
   "outputs": [
    {
     "name": "stderr",
     "output_type": "stream",
     "text": [
      "[nltk_data] Downloading package punkt to\n",
      "[nltk_data]     /Users/muhamadfikri/nltk_data...\n",
      "[nltk_data]   Package punkt is already up-to-date!\n",
      "[nltk_data] Downloading package stopwords to\n",
      "[nltk_data]     /Users/muhamadfikri/nltk_data...\n",
      "[nltk_data]   Unzipping corpora/stopwords.zip.\n"
     ]
    }
   ],
   "source": [
    "import pandas as pd\n",
    "import numpy as np\n",
    "import matplotlib.pyplot as plt\n",
    "import seaborn as sns\n",
    "from wordcloud import WordCloud\n",
    "import nltk\n",
    "from nltk.tokenize import word_tokenize\n",
    "nltk.download('punkt')\n",
    "import re\n",
    "nltk.download('stopwords')\n",
    "from nltk.corpus import stopwords"
   ]
  },
  {
   "cell_type": "code",
   "execution_count": 2,
   "id": "4e94a12d-1313-49ec-a1c1-804072eb0e02",
   "metadata": {},
   "outputs": [],
   "source": [
    "df = pd.read_csv(\"Kredivo.csv\")"
   ]
  },
  {
   "cell_type": "code",
   "execution_count": 3,
   "id": "39c3ad52-4dc5-4191-8714-94bb874ccd59",
   "metadata": {},
   "outputs": [
    {
     "data": {
      "text/html": [
       "<div>\n",
       "<style scoped>\n",
       "    .dataframe tbody tr th:only-of-type {\n",
       "        vertical-align: middle;\n",
       "    }\n",
       "\n",
       "    .dataframe tbody tr th {\n",
       "        vertical-align: top;\n",
       "    }\n",
       "\n",
       "    .dataframe thead th {\n",
       "        text-align: right;\n",
       "    }\n",
       "</style>\n",
       "<table border=\"1\" class=\"dataframe\">\n",
       "  <thead>\n",
       "    <tr style=\"text-align: right;\">\n",
       "      <th></th>\n",
       "      <th>userName</th>\n",
       "      <th>score</th>\n",
       "      <th>at</th>\n",
       "      <th>content</th>\n",
       "    </tr>\n",
       "  </thead>\n",
       "  <tbody>\n",
       "    <tr>\n",
       "      <th>0</th>\n",
       "      <td>Pengguna Google</td>\n",
       "      <td>5</td>\n",
       "      <td>2024-09-08 02:58:28</td>\n",
       "      <td>Kredivo sangan membatu thebest bnget. Tapi ada...</td>\n",
       "    </tr>\n",
       "    <tr>\n",
       "      <th>1</th>\n",
       "      <td>Pengguna Google</td>\n",
       "      <td>5</td>\n",
       "      <td>2024-09-08 02:58:08</td>\n",
       "      <td>Membantu...</td>\n",
       "    </tr>\n",
       "    <tr>\n",
       "      <th>2</th>\n",
       "      <td>Pengguna Google</td>\n",
       "      <td>1</td>\n",
       "      <td>2024-09-08 02:56:44</td>\n",
       "      <td>Perhatian ,Tolong para pengguna dan yg punya a...</td>\n",
       "    </tr>\n",
       "    <tr>\n",
       "      <th>3</th>\n",
       "      <td>Pengguna Google</td>\n",
       "      <td>5</td>\n",
       "      <td>2024-09-08 02:55:35</td>\n",
       "      <td>Kren</td>\n",
       "    </tr>\n",
       "    <tr>\n",
       "      <th>4</th>\n",
       "      <td>Pengguna Google</td>\n",
       "      <td>5</td>\n",
       "      <td>2024-09-08 02:54:51</td>\n",
       "      <td>aplikasi yang sangat membantu kebutuhan dengan...</td>\n",
       "    </tr>\n",
       "    <tr>\n",
       "      <th>...</th>\n",
       "      <td>...</td>\n",
       "      <td>...</td>\n",
       "      <td>...</td>\n",
       "      <td>...</td>\n",
       "    </tr>\n",
       "    <tr>\n",
       "      <th>99995</th>\n",
       "      <td>Konslet gaming</td>\n",
       "      <td>2</td>\n",
       "      <td>2024-02-28 04:54:05</td>\n",
       "      <td>saya daftar kok slalu gk lolos perifikasi ya s...</td>\n",
       "    </tr>\n",
       "    <tr>\n",
       "      <th>99996</th>\n",
       "      <td>Jhar Ketie</td>\n",
       "      <td>5</td>\n",
       "      <td>2024-02-28 04:53:37</td>\n",
       "      <td>Mksih</td>\n",
       "    </tr>\n",
       "    <tr>\n",
       "      <th>99997</th>\n",
       "      <td>Yoyok Haryanto</td>\n",
       "      <td>4</td>\n",
       "      <td>2024-02-28 04:51:08</td>\n",
       "      <td>ok</td>\n",
       "    </tr>\n",
       "    <tr>\n",
       "      <th>99998</th>\n",
       "      <td>Joko Prahoro</td>\n",
       "      <td>3</td>\n",
       "      <td>2024-02-28 04:50:36</td>\n",
       "      <td>Saya kurangi bintang 2 dulu, saya kecewa karen...</td>\n",
       "    </tr>\n",
       "    <tr>\n",
       "      <th>99999</th>\n",
       "      <td>Andry Suherman</td>\n",
       "      <td>5</td>\n",
       "      <td>2024-02-28 04:48:37</td>\n",
       "      <td>ok</td>\n",
       "    </tr>\n",
       "  </tbody>\n",
       "</table>\n",
       "<p>100000 rows × 4 columns</p>\n",
       "</div>"
      ],
      "text/plain": [
       "              userName  score                   at  \\\n",
       "0      Pengguna Google      5  2024-09-08 02:58:28   \n",
       "1      Pengguna Google      5  2024-09-08 02:58:08   \n",
       "2      Pengguna Google      1  2024-09-08 02:56:44   \n",
       "3      Pengguna Google      5  2024-09-08 02:55:35   \n",
       "4      Pengguna Google      5  2024-09-08 02:54:51   \n",
       "...                ...    ...                  ...   \n",
       "99995   Konslet gaming      2  2024-02-28 04:54:05   \n",
       "99996       Jhar Ketie      5  2024-02-28 04:53:37   \n",
       "99997   Yoyok Haryanto      4  2024-02-28 04:51:08   \n",
       "99998     Joko Prahoro      3  2024-02-28 04:50:36   \n",
       "99999   Andry Suherman      5  2024-02-28 04:48:37   \n",
       "\n",
       "                                                 content  \n",
       "0      Kredivo sangan membatu thebest bnget. Tapi ada...  \n",
       "1                                            Membantu...  \n",
       "2      Perhatian ,Tolong para pengguna dan yg punya a...  \n",
       "3                                                   Kren  \n",
       "4      aplikasi yang sangat membantu kebutuhan dengan...  \n",
       "...                                                  ...  \n",
       "99995  saya daftar kok slalu gk lolos perifikasi ya s...  \n",
       "99996                                              Mksih  \n",
       "99997                                                 ok  \n",
       "99998  Saya kurangi bintang 2 dulu, saya kecewa karen...  \n",
       "99999                                                 ok  \n",
       "\n",
       "[100000 rows x 4 columns]"
      ]
     },
     "execution_count": 3,
     "metadata": {},
     "output_type": "execute_result"
    }
   ],
   "source": [
    "df"
   ]
  },
  {
   "cell_type": "code",
   "execution_count": 4,
   "id": "677326df-cf16-4dbe-97bb-a8a6166e3f71",
   "metadata": {},
   "outputs": [
    {
     "data": {
      "text/plain": [
       "userName    0\n",
       "score       0\n",
       "at          0\n",
       "content     0\n",
       "dtype: int64"
      ]
     },
     "execution_count": 4,
     "metadata": {},
     "output_type": "execute_result"
    }
   ],
   "source": [
    "df.isnull().sum()"
   ]
  },
  {
   "cell_type": "code",
   "execution_count": 5,
   "id": "274794c0-ede2-40ae-b32a-68dc7546932f",
   "metadata": {},
   "outputs": [
    {
     "data": {
      "text/plain": [
       "0"
      ]
     },
     "execution_count": 5,
     "metadata": {},
     "output_type": "execute_result"
    }
   ],
   "source": [
    "df.duplicated().sum()"
   ]
  },
  {
   "cell_type": "code",
   "execution_count": 6,
   "id": "92ea0f8b-9c4e-4fe4-8508-1297d0f9f1d8",
   "metadata": {},
   "outputs": [
    {
     "data": {
      "text/plain": [
       "score\n",
       "1    11031\n",
       "2     1982\n",
       "3     2386\n",
       "4     4164\n",
       "5    80437\n",
       "Name: content, dtype: int64"
      ]
     },
     "execution_count": 6,
     "metadata": {},
     "output_type": "execute_result"
    }
   ],
   "source": [
    "df.groupby(\"score\")[\"content\"].count()"
   ]
  },
  {
   "cell_type": "code",
   "execution_count": 23,
   "id": "ff58c2ac-a712-44fb-bff9-71d96643890c",
   "metadata": {},
   "outputs": [
    {
     "data": {
      "text/plain": [
       "'mantabssss cepat membantu d kebutuhan mendesakbaguss pencairan cepatpoint nya ka point mengurangi nominal pembayaran tpi mohon perbaikiproses cepat biaya admin rendahmantap membantumendaftar berkali kali mengambil datamembantulumayan okjujur kecewa apk saatsaat kepepet persulit suruh menunggu kali bikin akun tolakkredivo membantu memenuhi kebutuhan sehariharimembantu bunga ringanaplikasi ga limit pas dipakai ga syaga telat bayar galbay tpi apk ga dipakai aneh anehhhtopmantaptolong defloper fitur barcode nya perbaikikalo limit nambahbaru kasih bintangtolong ditingkatkan pembayaran seabank dana gopay qris diadakan yaammbntunot good for mekredivo membantu banget limit rb akun premium limit jt terimakasih kredivomantapmudah mudahan accalhamdulillah sya byr lancartransaksi gk bayar lancarburuk dc rumah jam kerja aturan jam malam jam an nongkrong sengajah males disnikredivo aneh pembayaran telat akunmengatasisya krm nmr dana ku knpa ya tlng d perbaikiokbunga nya nggakmudah terpercayapendaftaran ditolakmembantungajukan pinjamanplease sembarang ngasih blokir permanen nasabah fk utolong kreditvo gak telat bayar galbay kayak kreditvo samakan galbay model kayak gitu mari galbay kreditvo barengmembantu keuangan kubaikkmasyaallah membantu proses cepat ribet bayar terimakasih kredivoaplikasi yg bagusbayar cicilan hp samsungf tdak masuk kanjadi galbay sekalianpadahal telatbiar taumembantuubantu bngt bungah rendahmantapsenang membantu bunga rendahsy krn blm transaksirecommended banget kredivo layanan bagus cepat cair nilaimake dikit aja berisik tekananan mles minjem gk kya sma maling jutaan ajasusah bertele telemantappppsemoga amanahlimit gak naiknaik pengguna score a tibatiba turun b temen gua pengguna cepet naiklimitnya aneh emang bayar gak telat samasekaliok banget slalu mnanggapi cepat mudah yess pokoke kaga duanya kredivo yg pling okkaga bndingnya sma yg murah meriahokmemuaskan tambahinmembantumantap pokoknyamantap apk kredivo membatu bangatmantap cepatmembantumantapmembantumantap bosmembantu terimakasih kredivoaplikasi paylater terbaikgak memuaskan sesuai realita pinjaman sesuai kretariabagusmembantuok mempermudahgoodbayar gak qris gakmantapmantap aplikasinyaterimakasihmembantuaplikasi terbaik butuh uang cepat kredivo solusinya dlm hitungan menit langsung cair gak pake ribet pengen bayar banget pake kredivo isi pulsa byr bpjs dll bayarnya dibyrkan blntopmarkotop kredivo is the bestpuas aplikasitolong hapus data salah gagal mendaftar kredivo terimakasihalternatiftrimaksih kredivo sangatt membantu sekaliiiiiikredivo mantulpengajuan disetujui jd kasih bintang aja langsung hapus data trma kshgoodlimit nambah yaterimakasihhadir gentingaplikasi kredivo membantu disaat butuh yg urgentpraktis mudahupdate buruk transaksi aja tolak telat bayar jarang padahalmungkin gara gara kemarin telat gajian udah ku bayar transaksi dah gak tolakblm sy sy bintangmantaplahenggak ribetsangat membantujosmembantusemoga bermanfaatalhamdulillah membantu mencairannya mudah terima kasih kredivomantap apknya rekomeded bgt pokonya mengajukan auto disetujui jd ngga menyesal menggunakankannya terimalah kredivo membantu kebutuhan syterimakasih kredivosangat mudah cepatcepat lancar mantapmayan'"
      ]
     },
     "execution_count": 23,
     "metadata": {},
     "output_type": "execute_result"
    }
   ],
   "source": [
    "new_df = df[[\"score\",\"content\"]]\n",
    "new_df.loc[:, 'content'] = new_df['content'].str.lower()\n",
    "new_df.loc[:, 'content'] = new_df['content'].apply(lambda x: re.sub(r'[^\\w\\s]', '', x))\n",
    "new_df.loc[:, 'content'] = new_df['content'].apply(lambda x: re.sub(r'\\d+', '', x))\n",
    "new_df.loc[:, 'content'] = new_df['content'].apply(lambda x: re.sub(r'http\\S+|www\\S+', '', x))\n",
    "stop_words = set(stopwords.words('indonesian'))\n",
    "new_df.loc[:, 'content'] = new_df['content'].apply(lambda x: ' '.join([word for word in x.split() if word not in stop_words]))\n",
    "new_df.content.sample(100).sum()"
   ]
  },
  {
   "cell_type": "code",
   "execution_count": null,
   "id": "fa98f6ab-0307-4fcf-8334-c24e4fb23fb1",
   "metadata": {},
   "outputs": [],
   "source": []
  },
  {
   "cell_type": "code",
   "execution_count": 8,
   "id": "466bb630-6e8e-409c-9eec-2fdf06c56a0c",
   "metadata": {},
   "outputs": [],
   "source": [
    "# wordcloud = WordCloud(width=800, height=400, background_color='white').generate(new_df.content.sum())\n"
   ]
  },
  {
   "cell_type": "code",
   "execution_count": 9,
   "id": "53ce71d6-3dca-4310-a232-a544ab559255",
   "metadata": {},
   "outputs": [],
   "source": [
    "# # Plot WordCloud\n",
    "# plt.figure(figsize=(10,6))\n",
    "# plt.imshow(wordcloud, interpolation='bilinear')\n",
    "# plt.axis('off')  # Menyembunyikan axis\n",
    "# plt.show()  # Menampilkan WordClouda\n"
   ]
  },
  {
   "cell_type": "code",
   "execution_count": null,
   "id": "263f2e95-2004-44a0-8aae-a94019df1704",
   "metadata": {},
   "outputs": [],
   "source": []
  }
 ],
 "metadata": {
  "kernelspec": {
   "display_name": "Python 3 (ipykernel)",
   "language": "python",
   "name": "python3"
  },
  "language_info": {
   "codemirror_mode": {
    "name": "ipython",
    "version": 3
   },
   "file_extension": ".py",
   "mimetype": "text/x-python",
   "name": "python",
   "nbconvert_exporter": "python",
   "pygments_lexer": "ipython3",
   "version": "3.12.4"
  }
 },
 "nbformat": 4,
 "nbformat_minor": 5
}
