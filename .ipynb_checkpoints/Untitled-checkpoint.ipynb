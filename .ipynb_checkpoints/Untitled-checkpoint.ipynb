{
 "cells": [
  {
   "cell_type": "code",
   "execution_count": 1,
   "id": "aef1716a-dc89-4c55-bf7d-3e8dfe303c9a",
   "metadata": {},
   "outputs": [],
   "source": [
    "import pandas as pd\n",
    "import numpy as np\n",
    "import matplotlib.pyplot as plt\n",
    "import seaborn as sns"
   ]
  },
  {
   "cell_type": "code",
   "execution_count": 2,
   "id": "4e94a12d-1313-49ec-a1c1-804072eb0e02",
   "metadata": {},
   "outputs": [],
   "source": [
    "df = pd.read_csv(\"Kredivo.csv\")"
   ]
  },
  {
   "cell_type": "code",
   "execution_count": 3,
   "id": "39c3ad52-4dc5-4191-8714-94bb874ccd59",
   "metadata": {},
   "outputs": [
    {
     "data": {
      "text/html": [
       "<div>\n",
       "<style scoped>\n",
       "    .dataframe tbody tr th:only-of-type {\n",
       "        vertical-align: middle;\n",
       "    }\n",
       "\n",
       "    .dataframe tbody tr th {\n",
       "        vertical-align: top;\n",
       "    }\n",
       "\n",
       "    .dataframe thead th {\n",
       "        text-align: right;\n",
       "    }\n",
       "</style>\n",
       "<table border=\"1\" class=\"dataframe\">\n",
       "  <thead>\n",
       "    <tr style=\"text-align: right;\">\n",
       "      <th></th>\n",
       "      <th>userName</th>\n",
       "      <th>score</th>\n",
       "      <th>at</th>\n",
       "      <th>content</th>\n",
       "    </tr>\n",
       "  </thead>\n",
       "  <tbody>\n",
       "    <tr>\n",
       "      <th>0</th>\n",
       "      <td>Pengguna Google</td>\n",
       "      <td>5</td>\n",
       "      <td>2024-09-08 02:58:28</td>\n",
       "      <td>Kredivo sangan membatu thebest bnget. Tapi ada...</td>\n",
       "    </tr>\n",
       "    <tr>\n",
       "      <th>1</th>\n",
       "      <td>Pengguna Google</td>\n",
       "      <td>5</td>\n",
       "      <td>2024-09-08 02:58:08</td>\n",
       "      <td>Membantu...</td>\n",
       "    </tr>\n",
       "    <tr>\n",
       "      <th>2</th>\n",
       "      <td>Pengguna Google</td>\n",
       "      <td>1</td>\n",
       "      <td>2024-09-08 02:56:44</td>\n",
       "      <td>Perhatian ,Tolong para pengguna dan yg punya a...</td>\n",
       "    </tr>\n",
       "    <tr>\n",
       "      <th>3</th>\n",
       "      <td>Pengguna Google</td>\n",
       "      <td>5</td>\n",
       "      <td>2024-09-08 02:55:35</td>\n",
       "      <td>Kren</td>\n",
       "    </tr>\n",
       "    <tr>\n",
       "      <th>4</th>\n",
       "      <td>Pengguna Google</td>\n",
       "      <td>5</td>\n",
       "      <td>2024-09-08 02:54:51</td>\n",
       "      <td>aplikasi yang sangat membantu kebutuhan dengan...</td>\n",
       "    </tr>\n",
       "    <tr>\n",
       "      <th>...</th>\n",
       "      <td>...</td>\n",
       "      <td>...</td>\n",
       "      <td>...</td>\n",
       "      <td>...</td>\n",
       "    </tr>\n",
       "    <tr>\n",
       "      <th>99995</th>\n",
       "      <td>Konslet gaming</td>\n",
       "      <td>2</td>\n",
       "      <td>2024-02-28 04:54:05</td>\n",
       "      <td>saya daftar kok slalu gk lolos perifikasi ya s...</td>\n",
       "    </tr>\n",
       "    <tr>\n",
       "      <th>99996</th>\n",
       "      <td>Jhar Ketie</td>\n",
       "      <td>5</td>\n",
       "      <td>2024-02-28 04:53:37</td>\n",
       "      <td>Mksih</td>\n",
       "    </tr>\n",
       "    <tr>\n",
       "      <th>99997</th>\n",
       "      <td>Yoyok Haryanto</td>\n",
       "      <td>4</td>\n",
       "      <td>2024-02-28 04:51:08</td>\n",
       "      <td>ok</td>\n",
       "    </tr>\n",
       "    <tr>\n",
       "      <th>99998</th>\n",
       "      <td>Joko Prahoro</td>\n",
       "      <td>3</td>\n",
       "      <td>2024-02-28 04:50:36</td>\n",
       "      <td>Saya kurangi bintang 2 dulu, saya kecewa karen...</td>\n",
       "    </tr>\n",
       "    <tr>\n",
       "      <th>99999</th>\n",
       "      <td>Andry Suherman</td>\n",
       "      <td>5</td>\n",
       "      <td>2024-02-28 04:48:37</td>\n",
       "      <td>ok</td>\n",
       "    </tr>\n",
       "  </tbody>\n",
       "</table>\n",
       "<p>100000 rows × 4 columns</p>\n",
       "</div>"
      ],
      "text/plain": [
       "              userName  score                   at  \\\n",
       "0      Pengguna Google      5  2024-09-08 02:58:28   \n",
       "1      Pengguna Google      5  2024-09-08 02:58:08   \n",
       "2      Pengguna Google      1  2024-09-08 02:56:44   \n",
       "3      Pengguna Google      5  2024-09-08 02:55:35   \n",
       "4      Pengguna Google      5  2024-09-08 02:54:51   \n",
       "...                ...    ...                  ...   \n",
       "99995   Konslet gaming      2  2024-02-28 04:54:05   \n",
       "99996       Jhar Ketie      5  2024-02-28 04:53:37   \n",
       "99997   Yoyok Haryanto      4  2024-02-28 04:51:08   \n",
       "99998     Joko Prahoro      3  2024-02-28 04:50:36   \n",
       "99999   Andry Suherman      5  2024-02-28 04:48:37   \n",
       "\n",
       "                                                 content  \n",
       "0      Kredivo sangan membatu thebest bnget. Tapi ada...  \n",
       "1                                            Membantu...  \n",
       "2      Perhatian ,Tolong para pengguna dan yg punya a...  \n",
       "3                                                   Kren  \n",
       "4      aplikasi yang sangat membantu kebutuhan dengan...  \n",
       "...                                                  ...  \n",
       "99995  saya daftar kok slalu gk lolos perifikasi ya s...  \n",
       "99996                                              Mksih  \n",
       "99997                                                 ok  \n",
       "99998  Saya kurangi bintang 2 dulu, saya kecewa karen...  \n",
       "99999                                                 ok  \n",
       "\n",
       "[100000 rows x 4 columns]"
      ]
     },
     "execution_count": 3,
     "metadata": {},
     "output_type": "execute_result"
    }
   ],
   "source": [
    "df"
   ]
  },
  {
   "cell_type": "code",
   "execution_count": 4,
   "id": "677326df-cf16-4dbe-97bb-a8a6166e3f71",
   "metadata": {},
   "outputs": [
    {
     "data": {
      "text/plain": [
       "userName    0\n",
       "score       0\n",
       "at          0\n",
       "content     0\n",
       "dtype: int64"
      ]
     },
     "execution_count": 4,
     "metadata": {},
     "output_type": "execute_result"
    }
   ],
   "source": [
    "df.isnull().sum()"
   ]
  },
  {
   "cell_type": "code",
   "execution_count": 5,
   "id": "274794c0-ede2-40ae-b32a-68dc7546932f",
   "metadata": {},
   "outputs": [
    {
     "data": {
      "text/plain": [
       "0"
      ]
     },
     "execution_count": 5,
     "metadata": {},
     "output_type": "execute_result"
    }
   ],
   "source": [
    "df.duplicated().sum()"
   ]
  },
  {
   "cell_type": "code",
   "execution_count": 14,
   "id": "92ea0f8b-9c4e-4fe4-8508-1297d0f9f1d8",
   "metadata": {},
   "outputs": [
    {
     "data": {
      "text/html": [
       "<div>\n",
       "<style scoped>\n",
       "    .dataframe tbody tr th:only-of-type {\n",
       "        vertical-align: middle;\n",
       "    }\n",
       "\n",
       "    .dataframe tbody tr th {\n",
       "        vertical-align: top;\n",
       "    }\n",
       "\n",
       "    .dataframe thead th {\n",
       "        text-align: right;\n",
       "    }\n",
       "</style>\n",
       "<table border=\"1\" class=\"dataframe\">\n",
       "  <thead>\n",
       "    <tr style=\"text-align: right;\">\n",
       "      <th></th>\n",
       "      <th>userName</th>\n",
       "      <th>at</th>\n",
       "      <th>content</th>\n",
       "    </tr>\n",
       "    <tr>\n",
       "      <th>score</th>\n",
       "      <th></th>\n",
       "      <th></th>\n",
       "      <th></th>\n",
       "    </tr>\n",
       "  </thead>\n",
       "  <tbody>\n",
       "    <tr>\n",
       "      <th>1</th>\n",
       "      <td>11031</td>\n",
       "      <td>11031</td>\n",
       "      <td>11031</td>\n",
       "    </tr>\n",
       "    <tr>\n",
       "      <th>2</th>\n",
       "      <td>1982</td>\n",
       "      <td>1982</td>\n",
       "      <td>1982</td>\n",
       "    </tr>\n",
       "    <tr>\n",
       "      <th>3</th>\n",
       "      <td>2386</td>\n",
       "      <td>2386</td>\n",
       "      <td>2386</td>\n",
       "    </tr>\n",
       "    <tr>\n",
       "      <th>4</th>\n",
       "      <td>4164</td>\n",
       "      <td>4164</td>\n",
       "      <td>4164</td>\n",
       "    </tr>\n",
       "    <tr>\n",
       "      <th>5</th>\n",
       "      <td>80437</td>\n",
       "      <td>80437</td>\n",
       "      <td>80437</td>\n",
       "    </tr>\n",
       "  </tbody>\n",
       "</table>\n",
       "</div>"
      ],
      "text/plain": [
       "       userName     at  content\n",
       "score                          \n",
       "1         11031  11031    11031\n",
       "2          1982   1982     1982\n",
       "3          2386   2386     2386\n",
       "4          4164   4164     4164\n",
       "5         80437  80437    80437"
      ]
     },
     "execution_count": 14,
     "metadata": {},
     "output_type": "execute_result"
    }
   ],
   "source": [
    "df.groupby(\"score\")[\"content\"].count()"
   ]
  },
  {
   "cell_type": "code",
   "execution_count": null,
   "id": "ff58c2ac-a712-44fb-bff9-71d96643890c",
   "metadata": {},
   "outputs": [],
   "source": []
  }
 ],
 "metadata": {
  "kernelspec": {
   "display_name": "Python 3 (ipykernel)",
   "language": "python",
   "name": "python3"
  },
  "language_info": {
   "codemirror_mode": {
    "name": "ipython",
    "version": 3
   },
   "file_extension": ".py",
   "mimetype": "text/x-python",
   "name": "python",
   "nbconvert_exporter": "python",
   "pygments_lexer": "ipython3",
   "version": "3.12.4"
  }
 },
 "nbformat": 4,
 "nbformat_minor": 5
}
